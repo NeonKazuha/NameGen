{
  "nbformat": 4,
  "nbformat_minor": 0,
  "metadata": {
    "colab": {
      "provenance": []
    },
    "kernelspec": {
      "name": "python3",
      "display_name": "Python 3"
    },
    "language_info": {
      "name": "python"
    }
  },
  "cells": [
    {
      "cell_type": "code",
      "execution_count": 1,
      "metadata": {
        "colab": {
          "base_uri": "https://localhost:8080/"
        },
        "id": "w1Mzm9HQp5gn",
        "outputId": "6d574008-eccc-4eb2-d2a0-eacec29b30af"
      },
      "outputs": [
        {
          "output_type": "stream",
          "name": "stdout",
          "text": [
            "Dataset URL: https://www.kaggle.com/datasets/meemr5/indian-names-boys-girls\n",
            "License(s): CC0-1.0\n",
            "Downloading indian-names-boys-girls.zip to /content\n",
            "  0% 0.00/161k [00:00<?, ?B/s]\n",
            "100% 161k/161k [00:00<00:00, 52.2MB/s]\n"
          ]
        }
      ],
      "source": [
        "!kaggle datasets download -d meemr5/indian-names-boys-girls"
      ]
    },
    {
      "cell_type": "code",
      "source": [
        "!unzip indian-names-boys-girls.zip"
      ],
      "metadata": {
        "id": "vHe7nf55qFpA",
        "colab": {
          "base_uri": "https://localhost:8080/"
        },
        "outputId": "3d0b7f4c-8b1b-4252-a7ab-4104564e3919"
      },
      "execution_count": 2,
      "outputs": [
        {
          "output_type": "stream",
          "name": "stdout",
          "text": [
            "Archive:  indian-names-boys-girls.zip\n",
            "  inflating: Names.txt               \n"
          ]
        }
      ]
    },
    {
      "cell_type": "code",
      "source": [
        "import torch\n",
        "import torch.nn.functional as F\n",
        "import random\n",
        "import plotly.express as px"
      ],
      "metadata": {
        "id": "OCSdfhqqx5VN"
      },
      "execution_count": 3,
      "outputs": []
    },
    {
      "cell_type": "code",
      "source": [
        "names = open('Names.txt', 'r').read().lower().splitlines()\n",
        "names[:5]"
      ],
      "metadata": {
        "colab": {
          "base_uri": "https://localhost:8080/"
        },
        "id": "2sIUKx3lqt5I",
        "outputId": "21f7c362-bbf4-469f-939c-cfaf0f6e77f7"
      },
      "execution_count": 4,
      "outputs": [
        {
          "output_type": "execute_result",
          "data": {
            "text/plain": [
              "['aaban', 'aabharan', 'aabhas', 'aabhat', 'aabheer']"
            ]
          },
          "metadata": {},
          "execution_count": 4
        }
      ]
    },
    {
      "cell_type": "code",
      "source": [
        "len(names)"
      ],
      "metadata": {
        "colab": {
          "base_uri": "https://localhost:8080/"
        },
        "id": "DcIFVkWwq0qi",
        "outputId": "920a9ba1-b2fb-4480-eea2-541daa037d6a"
      },
      "execution_count": 5,
      "outputs": [
        {
          "output_type": "execute_result",
          "data": {
            "text/plain": [
              "55691"
            ]
          },
          "metadata": {},
          "execution_count": 5
        }
      ]
    },
    {
      "cell_type": "code",
      "source": [
        "chars = sorted(list(set(''.join(names))))\n",
        "chars.append('!')"
      ],
      "metadata": {
        "id": "RSn7NpOurgt8"
      },
      "execution_count": 6,
      "outputs": []
    },
    {
      "cell_type": "code",
      "source": [
        "chars"
      ],
      "metadata": {
        "colab": {
          "base_uri": "https://localhost:8080/"
        },
        "id": "Ek19xvGZsqFe",
        "outputId": "be2ab98e-ef35-48c6-d2b9-d634561d2917"
      },
      "execution_count": 7,
      "outputs": [
        {
          "output_type": "execute_result",
          "data": {
            "text/plain": [
              "[' ',\n",
              " '-',\n",
              " '.',\n",
              " 'a',\n",
              " 'b',\n",
              " 'c',\n",
              " 'd',\n",
              " 'e',\n",
              " 'f',\n",
              " 'g',\n",
              " 'h',\n",
              " 'i',\n",
              " 'j',\n",
              " 'k',\n",
              " 'l',\n",
              " 'm',\n",
              " 'n',\n",
              " 'o',\n",
              " 'p',\n",
              " 'q',\n",
              " 'r',\n",
              " 's',\n",
              " 't',\n",
              " 'u',\n",
              " 'v',\n",
              " 'w',\n",
              " 'x',\n",
              " 'y',\n",
              " 'z',\n",
              " '!']"
            ]
          },
          "metadata": {},
          "execution_count": 7
        }
      ]
    },
    {
      "cell_type": "code",
      "source": [
        "c2idx = {c: idx for idx, c in enumerate(chars)}\n",
        "# c2idx['.'] = 0\n",
        "idx2c = {idx: c for c, idx in c2idx.items()}\n",
        "c2idx, idx2c"
      ],
      "metadata": {
        "colab": {
          "base_uri": "https://localhost:8080/"
        },
        "id": "pd592JiPrnw8",
        "outputId": "b2600515-0cb1-4b7b-9e24-48a759d05eff"
      },
      "execution_count": 8,
      "outputs": [
        {
          "output_type": "execute_result",
          "data": {
            "text/plain": [
              "({' ': 0,\n",
              "  '-': 1,\n",
              "  '.': 2,\n",
              "  'a': 3,\n",
              "  'b': 4,\n",
              "  'c': 5,\n",
              "  'd': 6,\n",
              "  'e': 7,\n",
              "  'f': 8,\n",
              "  'g': 9,\n",
              "  'h': 10,\n",
              "  'i': 11,\n",
              "  'j': 12,\n",
              "  'k': 13,\n",
              "  'l': 14,\n",
              "  'm': 15,\n",
              "  'n': 16,\n",
              "  'o': 17,\n",
              "  'p': 18,\n",
              "  'q': 19,\n",
              "  'r': 20,\n",
              "  's': 21,\n",
              "  't': 22,\n",
              "  'u': 23,\n",
              "  'v': 24,\n",
              "  'w': 25,\n",
              "  'x': 26,\n",
              "  'y': 27,\n",
              "  'z': 28,\n",
              "  '!': 29},\n",
              " {0: ' ',\n",
              "  1: '-',\n",
              "  2: '.',\n",
              "  3: 'a',\n",
              "  4: 'b',\n",
              "  5: 'c',\n",
              "  6: 'd',\n",
              "  7: 'e',\n",
              "  8: 'f',\n",
              "  9: 'g',\n",
              "  10: 'h',\n",
              "  11: 'i',\n",
              "  12: 'j',\n",
              "  13: 'k',\n",
              "  14: 'l',\n",
              "  15: 'm',\n",
              "  16: 'n',\n",
              "  17: 'o',\n",
              "  18: 'p',\n",
              "  19: 'q',\n",
              "  20: 'r',\n",
              "  21: 's',\n",
              "  22: 't',\n",
              "  23: 'u',\n",
              "  24: 'v',\n",
              "  25: 'w',\n",
              "  26: 'x',\n",
              "  27: 'y',\n",
              "  28: 'z',\n",
              "  29: '!'})"
            ]
          },
          "metadata": {},
          "execution_count": 8
        }
      ]
    },
    {
      "cell_type": "code",
      "source": [
        "print({name for name in names if len(name) < 3})"
      ],
      "metadata": {
        "colab": {
          "base_uri": "https://localhost:8080/"
        },
        "id": "mRC7KjvTta7J",
        "outputId": "bdb58098-1633-471c-852b-91fa92bb46df"
      },
      "execution_count": 9,
      "outputs": [
        {
          "output_type": "stream",
          "name": "stdout",
          "text": [
            "{'om', 'an', 'cy'}\n"
          ]
        }
      ]
    },
    {
      "cell_type": "code",
      "source": [
        "def generate_data(names, block_size):\n",
        "  X, y = [], []\n",
        "  for name in names:\n",
        "    context = [len(c2idx)-1] * block_size\n",
        "    print(name)\n",
        "    for ch in name + '!':\n",
        "      idx = c2idx[ch]\n",
        "      X.append(context)\n",
        "      y.append(idx)\n",
        "      print(''.join(idx2c[k] for k in context), '---->', ch)\n",
        "      context = context[1:] + [idx]"
      ],
      "metadata": {
        "id": "-Owib699q6r-"
      },
      "execution_count": 10,
      "outputs": []
    },
    {
      "cell_type": "code",
      "source": [
        "generate_data(names[:2], 3)"
      ],
      "metadata": {
        "colab": {
          "base_uri": "https://localhost:8080/"
        },
        "id": "rBiOzsg4v-Zr",
        "outputId": "43d24952-8958-47cc-a4d8-aea55133e9e5"
      },
      "execution_count": 11,
      "outputs": [
        {
          "output_type": "stream",
          "name": "stdout",
          "text": [
            "aaban\n",
            "!!! ----> a\n",
            "!!a ----> a\n",
            "!aa ----> b\n",
            "aab ----> a\n",
            "aba ----> n\n",
            "ban ----> !\n",
            "aabharan\n",
            "!!! ----> a\n",
            "!!a ----> a\n",
            "!aa ----> b\n",
            "aab ----> h\n",
            "abh ----> a\n",
            "bha ----> r\n",
            "har ----> a\n",
            "ara ----> n\n",
            "ran ----> !\n"
          ]
        }
      ]
    },
    {
      "cell_type": "code",
      "source": [
        "def generate_data(names, block_size):\n",
        "  X, y = [], []\n",
        "  for name in names:\n",
        "    context = [len(c2idx)-1] * block_size\n",
        "    # print(name)\n",
        "    for ch in name + '!':\n",
        "      idx = c2idx[ch]\n",
        "      X.append(context)\n",
        "      y.append(idx)\n",
        "      # print(''.join(idx2c[k] for k in context), '---->', ch)\n",
        "      context = context[1:] + [idx]\n",
        "\n",
        "  X = torch.tensor(X)\n",
        "  y = torch.tensor(y)\n",
        "  print(type(X), X.shape, type(y), y.shape)\n",
        "  return X, y"
      ],
      "metadata": {
        "id": "UMznA5Vlxv7s"
      },
      "execution_count": 12,
      "outputs": []
    },
    {
      "cell_type": "code",
      "source": [
        "generate_data(names[:2], 3)"
      ],
      "metadata": {
        "colab": {
          "base_uri": "https://localhost:8080/"
        },
        "id": "2Q3ctZK4ySxF",
        "outputId": "a579ead8-98cc-45c9-8f7b-c8325eee2c91"
      },
      "execution_count": 13,
      "outputs": [
        {
          "output_type": "stream",
          "name": "stdout",
          "text": [
            "<class 'torch.Tensor'> torch.Size([15, 3]) <class 'torch.Tensor'> torch.Size([15])\n"
          ]
        },
        {
          "output_type": "execute_result",
          "data": {
            "text/plain": [
              "(tensor([[29, 29, 29],\n",
              "         [29, 29,  3],\n",
              "         [29,  3,  3],\n",
              "         [ 3,  3,  4],\n",
              "         [ 3,  4,  3],\n",
              "         [ 4,  3, 16],\n",
              "         [29, 29, 29],\n",
              "         [29, 29,  3],\n",
              "         [29,  3,  3],\n",
              "         [ 3,  3,  4],\n",
              "         [ 3,  4, 10],\n",
              "         [ 4, 10,  3],\n",
              "         [10,  3, 20],\n",
              "         [ 3, 20,  3],\n",
              "         [20,  3, 16]]),\n",
              " tensor([ 3,  3,  4,  3, 16, 29,  3,  3,  4, 10,  3, 20,  3, 16, 29]))"
            ]
          },
          "metadata": {},
          "execution_count": 13
        }
      ]
    },
    {
      "cell_type": "code",
      "source": [
        "random.seed(42)\n",
        "random.shuffle(names)\n",
        "up_l = int(0.8 * len(names))\n",
        "lo_l = int(0.9 * len(names))\n",
        "Xtr, ytr = generate_data(names[ : up_l], 3)\n",
        "Xval, yval = generate_data(names[up_l: lo_l], 3)\n",
        "Xtest, ytest = generate_data(names[lo_l: ], 3)"
      ],
      "metadata": {
        "colab": {
          "base_uri": "https://localhost:8080/"
        },
        "id": "tzKTVuajyTnh",
        "outputId": "4d32a601-a533-4492-da14-8617f6f94338"
      },
      "execution_count": 14,
      "outputs": [
        {
          "output_type": "stream",
          "name": "stdout",
          "text": [
            "<class 'torch.Tensor'> torch.Size([405025, 3]) <class 'torch.Tensor'> torch.Size([405025])\n",
            "<class 'torch.Tensor'> torch.Size([50669, 3]) <class 'torch.Tensor'> torch.Size([50669])\n",
            "<class 'torch.Tensor'> torch.Size([50685, 3]) <class 'torch.Tensor'> torch.Size([50685])\n"
          ]
        }
      ]
    },
    {
      "cell_type": "code",
      "source": [
        "Xtr.shape, Xval.shape, Xtest.shape, ytr.shape, yval.shape, ytest.shape"
      ],
      "metadata": {
        "colab": {
          "base_uri": "https://localhost:8080/"
        },
        "id": "ERbzM09JyZba",
        "outputId": "5c03b82f-7833-46f8-8dd5-fbdc8b5bf551"
      },
      "execution_count": 15,
      "outputs": [
        {
          "output_type": "execute_result",
          "data": {
            "text/plain": [
              "(torch.Size([405025, 3]),\n",
              " torch.Size([50669, 3]),\n",
              " torch.Size([50685, 3]),\n",
              " torch.Size([405025]),\n",
              " torch.Size([50669]),\n",
              " torch.Size([50685]))"
            ]
          },
          "metadata": {},
          "execution_count": 15
        }
      ]
    },
    {
      "cell_type": "code",
      "source": [
        "g = torch.Generator().manual_seed(42)\n",
        "C = torch.randn((len(c2idx), 3), generator=g)\n",
        "w1 = torch.randn((9, 100), generator = g)\n",
        "b1 = torch.randn(100, generator = g)\n",
        "w2 = torch.randn((100, len(c2idx)), generator = g)\n",
        "b2 = torch.randn(len(c2idx), generator = g)\n",
        "C.shape, w1.shape, b1.shape, w2.shape, b2.shape"
      ],
      "metadata": {
        "colab": {
          "base_uri": "https://localhost:8080/"
        },
        "id": "zu-GQprr2QcV",
        "outputId": "982a3fb0-8ae8-4cf1-8809-9e642e5cf089"
      },
      "execution_count": 34,
      "outputs": [
        {
          "output_type": "execute_result",
          "data": {
            "text/plain": [
              "(torch.Size([30, 3]),\n",
              " torch.Size([9, 100]),\n",
              " torch.Size([100]),\n",
              " torch.Size([100, 30]),\n",
              " torch.Size([30]))"
            ]
          },
          "metadata": {},
          "execution_count": 34
        }
      ]
    },
    {
      "cell_type": "code",
      "source": [
        "parameters = [C, w1, b1, w2, b2]"
      ],
      "metadata": {
        "id": "-pRlZtzg3hKM"
      },
      "execution_count": 35,
      "outputs": []
    },
    {
      "cell_type": "code",
      "source": [
        "# lr_list = [0.001, 0.01, 0.1, 1, 10]\n",
        "# loss_list = []\n",
        "def train(X, y, epochs, batch_size):\n",
        "  for p in parameters:\n",
        "    p.requires_grad = True\n",
        "\n",
        "  # for i, lr in enumerate(lr_list):\n",
        "  for _ in range(epochs):\n",
        "      ix = torch.randint(0, X.shape[0], (batch_size,))\n",
        "      emb = C[X[ix]]\n",
        "      h = torch.tanh(emb.view(-1, 9) @ w1 + b1)\n",
        "      logits = h @ w2 + b2\n",
        "      loss = F.cross_entropy(logits, y[ix])\n",
        "      # print(loss.item())\n",
        "\n",
        "      for p in parameters:\n",
        "        p.grad = None\n",
        "      loss.backward()\n",
        "\n",
        "      for p in parameters:\n",
        "        p.data += -1 * p.grad\n",
        "\n",
        "    # loss_list.append(loss.item())\n",
        "  return loss.item()"
      ],
      "metadata": {
        "id": "0jZSNJhl0jGO"
      },
      "execution_count": 36,
      "outputs": []
    },
    {
      "cell_type": "code",
      "source": [
        "train(Xtr, ytr, 1000, 512)"
      ],
      "metadata": {
        "colab": {
          "base_uri": "https://localhost:8080/"
        },
        "id": "Vj5C5y3G4YEk",
        "outputId": "a89a133c-00d4-4bed-bfa9-5e03e93ca3d4"
      },
      "execution_count": 37,
      "outputs": [
        {
          "output_type": "execute_result",
          "data": {
            "text/plain": [
              "2.2898130416870117"
            ]
          },
          "metadata": {},
          "execution_count": 37
        }
      ]
    },
    {
      "cell_type": "code",
      "source": [
        "loss_list"
      ],
      "metadata": {
        "colab": {
          "base_uri": "https://localhost:8080/"
        },
        "id": "ureKyTCb9hAh",
        "outputId": "eee4da59-fb44-48bb-f8c4-854291dc2ac9"
      },
      "execution_count": 106,
      "outputs": [
        {
          "output_type": "execute_result",
          "data": {
            "text/plain": [
              "[17.686206817626953,\n",
              " 8.676139831542969,\n",
              " 3.9686379432678223,\n",
              " 2.508625030517578,\n",
              " 22.129972457885742]"
            ]
          },
          "metadata": {},
          "execution_count": 106
        }
      ]
    },
    {
      "cell_type": "code",
      "source": [
        "import matplotlib.pyplot as plt\n",
        "plt.plot(loss_list, lr_list)\n",
        "plt.xlabel('Learning Rate')\n",
        "plt.ylabel('Loss')\n",
        "plt.show()"
      ],
      "metadata": {
        "colab": {
          "base_uri": "https://localhost:8080/",
          "height": 449
        },
        "id": "9N12LFdH4aQK",
        "outputId": "9ea6c9d2-b935-407a-eb2e-dfbbb25dcb09"
      },
      "execution_count": 107,
      "outputs": [
        {
          "output_type": "display_data",
          "data": {
            "text/plain": [
              "<Figure size 640x480 with 1 Axes>"
            ],
            "image/png": "[encoded data removed]"
          },
          "metadata": {}
        }
      ]
    },
    {
      "cell_type": "code",
      "source": [
        "def validate(X, y):\n",
        "  emb = C[X]\n",
        "  h = torch.tanh(emb.view(-1, 9) @ w1 + b1)\n",
        "  logits = h @ w2 + b2\n",
        "  loss = F.cross_entropy(logits, y)\n",
        "  return loss.item()"
      ],
      "metadata": {
        "id": "8tehcCVaBxyV"
      },
      "execution_count": 38,
      "outputs": []
    },
    {
      "cell_type": "code",
      "source": [
        "validate(Xval, yval)"
      ],
      "metadata": {
        "colab": {
          "base_uri": "https://localhost:8080/"
        },
        "id": "0fd2vjtboL4W",
        "outputId": "0f6bdeff-fe47-44a0-df39-727f362fa0db"
      },
      "execution_count": 39,
      "outputs": [
        {
          "output_type": "execute_result",
          "data": {
            "text/plain": [
              "2.3323659896850586"
            ]
          },
          "metadata": {},
          "execution_count": 39
        }
      ]
    },
    {
      "cell_type": "code",
      "source": [
        "validate(Xtest, ytest)"
      ],
      "metadata": {
        "colab": {
          "base_uri": "https://localhost:8080/"
        },
        "id": "WSIg584koNan",
        "outputId": "a70ad608-442c-406e-de3f-a6222fe14f12"
      },
      "execution_count": 40,
      "outputs": [
        {
          "output_type": "execute_result",
          "data": {
            "text/plain": [
              "2.321162223815918"
            ]
          },
          "metadata": {},
          "execution_count": 40
        }
      ]
    },
    {
      "cell_type": "code",
      "source": [
        "def generate_name(block_size, number):\n",
        "  output = []\n",
        "  # g = torch.Generator().manual_seed(42)\n",
        "  for _ in range(number):\n",
        "    idx = 29\n",
        "    context = [29] * block_size\n",
        "    name = ''\n",
        "    while True:\n",
        "      emb = C[torch.tensor([context])]\n",
        "      h = torch.tanh(emb.view(-1, 9) @ w1 + b1)\n",
        "      logits = h @ w2 + b2\n",
        "      probs = F.softmax(logits, dim = 1)\n",
        "      idx = torch.multinomial(probs, num_samples = 1, replacement = True, generator = g).item()\n",
        "      context = context[1:] + [idx]\n",
        "      if idx == 29:\n",
        "        break\n",
        "      name += (idx2c[idx])\n",
        "    output.append(name)\n",
        "  return output"
      ],
      "metadata": {
        "id": "NnXOxgXGoVa7"
      },
      "execution_count": 44,
      "outputs": []
    },
    {
      "cell_type": "code",
      "source": [
        "generate_name(3, 20)"
      ],
      "metadata": {
        "colab": {
          "base_uri": "https://localhost:8080/"
        },
        "id": "dNEG62hTowab",
        "outputId": "0473de2f-f232-4103-beae-6c8a1c969fc7"
      },
      "execution_count": 47,
      "outputs": [
        {
          "output_type": "execute_result",
          "data": {
            "text/plain": [
              "['kava',\n",
              " 'gohenoanashantaranyuya',\n",
              " 'naajana',\n",
              " 'sanya',\n",
              " 'anana',\n",
              " 'vao',\n",
              " 'raransha',\n",
              " 'kaartha',\n",
              " 'gohamrushaeshwaranqhanthanaorimatawishana',\n",
              " 'karamana',\n",
              " 'karamathasanu',\n",
              " 'ranonana',\n",
              " 'vut',\n",
              " 'raamilakna',\n",
              " 'dudenalawa',\n",
              " 'naraananeshan',\n",
              " 'arshadakamraaraananajannikeanasavargo soyalatrakayaana',\n",
              " 'yashilanayaarantavachaolan',\n",
              " 'lakesharushanyursantrana',\n",
              " 'ceeraayakeka']"
            ]
          },
          "metadata": {},
          "execution_count": 47
        }
      ]
    },
    {
      "cell_type": "code",
      "source": [],
      "metadata": {
        "id": "h6aFk5_4pQOV"
      },
      "execution_count": null,
      "outputs": []
    }
  ]
}